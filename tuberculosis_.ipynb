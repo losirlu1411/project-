{
  "nbformat": 4,
  "nbformat_minor": 0,
  "metadata": {
    "colab": {
      "provenance": [],
      "gpuType": "T4",
      "mount_file_id": "1sWp4Sd5d2qO91pY6Pxns6ewZItK6yvFO",
      "authorship_tag": "ABX9TyOif0coKnowh72uMv5rh2ew",
      "include_colab_link": true
    },
    "kernelspec": {
      "name": "python3",
      "display_name": "Python 3"
    },
    "language_info": {
      "name": "python"
    },
    "accelerator": "GPU"
  },
  "cells": [
    {
      "cell_type": "markdown",
      "metadata": {
        "id": "view-in-github",
        "colab_type": "text"
      },
      "source": [
        "<a href=\"https://colab.research.google.com/github/losirlu1411/project-/blob/main/tuberculosis_.ipynb\" target=\"_parent\"><img src=\"https://colab.research.google.com/assets/colab-badge.svg\" alt=\"Open In Colab\"/></a>"
      ]
    },
    {
      "cell_type": "code",
      "source": [
        "import tensorflow as tf\n",
        "from tensorflow.keras.preprocessing.image import ImageDataGenerator\n",
        "from tensorflow.keras.applications.vgg16 import VGG16\n",
        "from tensorflow.keras.layers import Dense, GlobalAveragePooling2D\n",
        "from tensorflow.keras.models import Model\n",
        "\n",
        "# Data directory\n",
        "data_dir = '/content/drive/MyDrive/project /TB_Chest_Radiography_Database'\n",
        "\n",
        "# Image dimensions\n",
        "img_height, img_width = 224, 224\n",
        "\n",
        "# Data generators\n",
        "train_datagen = ImageDataGenerator(\n",
        "    rescale=1./255,\n",
        "    rotation_range=20,\n",
        "    width_shift_range=0.2,\n",
        "    height_shift_range=0.2,\n",
        "    shear_range=0.2,\n",
        "    zoom_range=0.2,\n",
        "    horizontal_flip=True,\n",
        "    fill_mode='nearest'\n",
        ")\n",
        "\n",
        "test_datagen = ImageDataGenerator(rescale=1./255)\n",
        "\n",
        "train_generator = train_datagen.flow_from_directory(\n",
        "    data_dir,\n",
        "    target_size=(img_height, img_width),\n",
        "    batch_size=32,\n",
        "    class_mode='binary',)\n",
        "\n",
        "\n",
        "# Define separate validation data generator\n",
        "val_datagen = ImageDataGenerator(rescale=1./255)\n",
        "\n",
        "validation_generator = val_datagen.flow_from_directory(\n",
        "    data_dir,\n",
        "    target_size=(img_height, img_width),\n",
        "    batch_size=32,\n",
        "    class_mode='binary',\n",
        ")\n",
        "\n",
        "# Base model\n",
        "base_model = VGG16(weights='imagenet', include_top=False, input_shape=(img_height, img_width, 3))\n",
        "\n",
        "# Freeze the base model\n",
        "for layer in base_model.layers:\n",
        "    layer.trainable = False\n",
        "\n",
        "# Add custom layers on top\n",
        "x = base_model.output\n",
        "x = GlobalAveragePooling2D()(x)\n",
        "x = Dense(256, activation='relu')(x)\n",
        "predictions = Dense(1, activation='sigmoid')(x)  # One unit for binary classification\n",
        "\n",
        "# Create the final model\n",
        "model = Model(inputs=base_model.input, outputs=predictions)\n",
        "\n",
        "# Compile the model\n",
        "model.compile(optimizer='adam', loss='binary_crossentropy', metrics=['accuracy'])\n",
        "\n",
        "# Train the model\n",
        "history = model.fit(\n",
        "    train_generator,\n",
        "    epochs=10,\n",
        "    validation_data=validation_generator\n",
        ")\n",
        "\n"
      ],
      "metadata": {
        "colab": {
          "base_uri": "https://localhost:8080/"
        },
        "collapsed": true,
        "id": "w3NfyOETh2vB",
        "outputId": "33d4a79d-fc09-43cc-c364-ed18ee9a6a25"
      },
      "execution_count": 1,
      "outputs": [
        {
          "output_type": "stream",
          "name": "stdout",
          "text": [
            "Found 4210 images belonging to 2 classes.\n",
            "Found 4210 images belonging to 2 classes.\n",
            "Downloading data from https://storage.googleapis.com/tensorflow/keras-applications/vgg16/vgg16_weights_tf_dim_ordering_tf_kernels_notop.h5\n",
            "\u001b[1m58889256/58889256\u001b[0m \u001b[32m━━━━━━━━━━━━━━━━━━━━\u001b[0m\u001b[37m\u001b[0m \u001b[1m2s\u001b[0m 0us/step\n",
            "Epoch 1/10\n"
          ]
        },
        {
          "output_type": "stream",
          "name": "stderr",
          "text": [
            "/usr/local/lib/python3.10/dist-packages/keras/src/trainers/data_adapters/py_dataset_adapter.py:122: UserWarning: Your `PyDataset` class should call `super().__init__(**kwargs)` in its constructor. `**kwargs` can include `workers`, `use_multiprocessing`, `max_queue_size`. Do not pass these arguments to `fit()`, as they will be ignored.\n",
            "  self._warn_if_super_not_called()\n"
          ]
        },
        {
          "output_type": "stream",
          "name": "stdout",
          "text": [
            "\u001b[1m132/132\u001b[0m \u001b[32m━━━━━━━━━━━━━━━━━━━━\u001b[0m\u001b[37m\u001b[0m \u001b[1m508s\u001b[0m 4s/step - accuracy: 0.8528 - loss: 0.3573 - val_accuracy: 0.9344 - val_loss: 0.1594\n",
            "Epoch 2/10\n",
            "\u001b[1m132/132\u001b[0m \u001b[32m━━━━━━━━━━━━━━━━━━━━\u001b[0m\u001b[37m\u001b[0m \u001b[1m210s\u001b[0m 1s/step - accuracy: 0.9331 - loss: 0.1710 - val_accuracy: 0.9651 - val_loss: 0.1008\n",
            "Epoch 3/10\n",
            "\u001b[1m132/132\u001b[0m \u001b[32m━━━━━━━━━━━━━━━━━━━━\u001b[0m\u001b[37m\u001b[0m \u001b[1m196s\u001b[0m 1s/step - accuracy: 0.9559 - loss: 0.1314 - val_accuracy: 0.9582 - val_loss: 0.0992\n",
            "Epoch 4/10\n",
            "\u001b[1m132/132\u001b[0m \u001b[32m━━━━━━━━━━━━━━━━━━━━\u001b[0m\u001b[37m\u001b[0m \u001b[1m203s\u001b[0m 1s/step - accuracy: 0.9606 - loss: 0.1069 - val_accuracy: 0.9648 - val_loss: 0.0873\n",
            "Epoch 5/10\n",
            "\u001b[1m132/132\u001b[0m \u001b[32m━━━━━━━━━━━━━━━━━━━━\u001b[0m\u001b[37m\u001b[0m \u001b[1m150s\u001b[0m 1s/step - accuracy: 0.9592 - loss: 0.1116 - val_accuracy: 0.9793 - val_loss: 0.0615\n",
            "Epoch 6/10\n",
            "\u001b[1m132/132\u001b[0m \u001b[32m━━━━━━━━━━━━━━━━━━━━\u001b[0m\u001b[37m\u001b[0m \u001b[1m146s\u001b[0m 1s/step - accuracy: 0.9729 - loss: 0.0910 - val_accuracy: 0.9660 - val_loss: 0.0859\n",
            "Epoch 7/10\n",
            "\u001b[1m132/132\u001b[0m \u001b[32m━━━━━━━━━━━━━━━━━━━━\u001b[0m\u001b[37m\u001b[0m \u001b[1m203s\u001b[0m 1s/step - accuracy: 0.9748 - loss: 0.0850 - val_accuracy: 0.9874 - val_loss: 0.0485\n",
            "Epoch 8/10\n",
            "\u001b[1m132/132\u001b[0m \u001b[32m━━━━━━━━━━━━━━━━━━━━\u001b[0m\u001b[37m\u001b[0m \u001b[1m148s\u001b[0m 1s/step - accuracy: 0.9748 - loss: 0.0793 - val_accuracy: 0.9644 - val_loss: 0.0875\n",
            "Epoch 9/10\n",
            "\u001b[1m132/132\u001b[0m \u001b[32m━━━━━━━━━━━━━━━━━━━━\u001b[0m\u001b[37m\u001b[0m \u001b[1m149s\u001b[0m 1s/step - accuracy: 0.9732 - loss: 0.0849 - val_accuracy: 0.9691 - val_loss: 0.0806\n",
            "Epoch 10/10\n",
            "\u001b[1m132/132\u001b[0m \u001b[32m━━━━━━━━━━━━━━━━━━━━\u001b[0m\u001b[37m\u001b[0m \u001b[1m231s\u001b[0m 1s/step - accuracy: 0.9706 - loss: 0.0868 - val_accuracy: 0.9869 - val_loss: 0.0418\n"
          ]
        }
      ]
    },
    {
      "cell_type": "code",
      "source": [
        "import matplotlib.pyplot as plt\n",
        "import numpy as np"
      ],
      "metadata": {
        "id": "A-ifRUQ99dv_"
      },
      "execution_count": 2,
      "outputs": []
    },
    {
      "cell_type": "code",
      "source": [
        "# Get class labels from the training data generator\n",
        "class_labels = train_generator.classes\n",
        "\n",
        "# Get the number of images in each class\n",
        "class_counts = np.bincount(class_labels)\n",
        "\n",
        "# Get unique class labels\n",
        "unique_labels = np.unique(class_labels)  # This will give you [0, 1]\n",
        "\n",
        "# Create the bar plot using unique labels and corresponding counts\n",
        "plt.bar(unique_labels, class_counts) # Plot bars for each unique label\n",
        "plt.xlabel(\"Class Label\")\n",
        "plt.ylabel(\"Number of Images\")\n",
        "plt.title(\"Class Distribution in Training Data\")\n",
        "plt.xticks(unique_labels) # Set x-axis ticks to match the unique labels\n",
        "plt.show()\n"
      ],
      "metadata": {
        "colab": {
          "base_uri": "https://localhost:8080/",
          "height": 472
        },
        "id": "qoGkXe_D8Qcw",
        "outputId": "33e33934-ab3f-44c9-e58b-09109efd7d51"
      },
      "execution_count": 3,
      "outputs": [
        {
          "output_type": "display_data",
          "data": {
            "text/plain": [
              "<Figure size 640x480 with 1 Axes>"
            ],
            "image/png": "[encoded data removed]"
          },
          "metadata": {}
        }
      ]
    },
    {
      "cell_type": "code",
      "source": [
        "# Assuming you have a list of class labels and their corresponding counts\n",
        "class_labels = ['Normal', 'Tuberculosis']\n",
        "\n",
        "# Get the number of images in each class from the training generator\n",
        "import numpy as np  # Make sure numpy is imported\n",
        "\n",
        "class_labels_from_generator = train_generator.classes\n",
        "class_counts = np.bincount(class_labels_from_generator)\n",
        "\n",
        "# Alternatively, if you know the counts:\n",
        "# class_counts = [3500, 700]  # Replace with actual counts\n",
        "\n",
        "# Create the pie chart\n",
        "import matplotlib.pyplot as plt  # Make sure matplotlib is imported\n",
        "\n",
        "plt.pie(class_counts, labels=class_labels, autopct='%1.1f%%')\n",
        "plt.title('Class Distribution')\n",
        "plt.show()"
      ],
      "metadata": {
        "colab": {
          "base_uri": "https://localhost:8080/",
          "height": 428
        },
        "id": "r41Pk1KMHo5K",
        "outputId": "98f04cf7-5c58-42d8-8eca-a941bad1f7b6"
      },
      "execution_count": 4,
      "outputs": [
        {
          "output_type": "display_data",
          "data": {
            "text/plain": [
              "<Figure size 640x480 with 1 Axes>"
            ],
            "image/png": "[encoded data removed]"
          },
          "metadata": {}
        }
      ]
    },
    {
      "cell_type": "code",
      "source": [
        " #saving the class names\n",
        "\n",
        "class_names = train_generator.class_indices # Get class names from train_generator\n",
        "\n",
        "print(f\"The Class Names in the Dataset are:\\n{class_names}\")"
      ],
      "metadata": {
        "colab": {
          "base_uri": "https://localhost:8080/"
        },
        "id": "psGp1k8aJCiZ",
        "outputId": "ed7b4ed5-a88b-4f9f-cff4-5fbc2bd583ea"
      },
      "execution_count": 5,
      "outputs": [
        {
          "output_type": "stream",
          "name": "stdout",
          "text": [
            "The Class Names in the Dataset are:\n",
            "{'Normal': 0, 'Tuberculosis': 1}\n"
          ]
        }
      ]
    },
    {
      "cell_type": "code",
      "source": [
        "# storing number classes in the dataset\n",
        "num_classes = len(train_generator.class_indices)\n",
        "print(f\"The Number of Classes in the Dataset are: {num_classes}\")"
      ],
      "metadata": {
        "colab": {
          "base_uri": "https://localhost:8080/"
        },
        "id": "s3WcljsiJCLA",
        "outputId": "711f217e-2c12-4fc7-b913-a34d2d8debe0"
      },
      "execution_count": 6,
      "outputs": [
        {
          "output_type": "stream",
          "name": "stdout",
          "text": [
            "The Number of Classes in the Dataset are: 2\n"
          ]
        }
      ]
    },
    {
      "cell_type": "code",
      "source": [
        "def track_batch_sizes(generator):\n",
        "  batch_sizes = []\n",
        "  for images, labels in generator:\n",
        "    batch_sizes.append(images.shape[0])  # Get number of images in current batch\n",
        "  return batch_sizes\n",
        "  # Track batch sizes in training data\n",
        "train_batch_sizes = track_batch_sizes(train_generator)\n",
        "\n",
        "# Plot the histogram of batch sizes\n",
        "plt.hist(train_batch_sizes)\n",
        "plt.xlabel(\"Batch Size\")\n",
        "plt.ylabel(\"Frequency\")\n",
        "plt.title(\"Distribution of Batch Sizes in Training Data\")\n",
        "plt.show()"
      ],
      "metadata": {
        "id": "o8tDjsTOL6MF"
      },
      "execution_count": null,
      "outputs": []
    }
  ]
}